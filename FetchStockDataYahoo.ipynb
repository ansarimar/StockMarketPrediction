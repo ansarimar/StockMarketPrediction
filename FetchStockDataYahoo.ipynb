{
 "cells": [
  {
   "cell_type": "markdown",
   "metadata": {},
   "source": [
    "## Fetch stocks data from Yahoo finance and save it to .csv files"
   ]
  },
  {
   "cell_type": "code",
   "execution_count": 1,
   "metadata": {},
   "outputs": [],
   "source": [
    "import time \n",
    "import datetime\n",
    "import pandas as pd"
   ]
  },
  {
   "cell_type": "code",
   "execution_count": 2,
   "metadata": {},
   "outputs": [],
   "source": [
    "symbol_us = 'GOOGL' #Google ticker\n",
    "symbol_other = '2330.TW' # Taiwan Semiconductor ticker\n",
    "period1 = int(time.mktime(datetime.datetime(2005,1,1,23,59).timetuple())) # begining \n",
    "period2 = int(time.mktime(datetime.datetime(2021,5,5,23,59).timetuple())) # end\n",
    "interval = '1d' #1wk,1m\n",
    "querr_us = f'https://query1.finance.yahoo.com/v7/finance/download/{symbol_us}?period1={period1}&period2={period2}&interval={interval}&events=history&includeAdjustedClose=true'\n",
    "querr_other = f'https://query1.finance.yahoo.com/v7/finance/download/{symbol_other}?period1={period1}&period2={period2}&interval={interval}&events=history&includeAdjustedClose=true'\n",
    "df_us = pd.read_csv(querr_us,index_col=0,header=0,parse_dates=True)\n",
    "df_other = pd.read_csv(querr_other,index_col=0,header=0,parse_dates=True)\n",
    "df_us.to_csv(f'stock_data/{symbol_us}.csv')\n",
    "df_other.to_csv(f'stock_data/{symbol_other}.csv')"
   ]
  },
  {
   "cell_type": "code",
   "execution_count": 3,
   "metadata": {},
   "outputs": [
    {
     "data": {
      "text/plain": [
       "1104641940"
      ]
     },
     "execution_count": 3,
     "metadata": {},
     "output_type": "execute_result"
    }
   ],
   "source": [
    "period1"
   ]
  },
  {
   "cell_type": "code",
   "execution_count": 7,
   "metadata": {},
   "outputs": [],
   "source": [
    "df_us = pd.read_csv(f'stock_data/{symbol_us}.csv',index_col=0,header=0,parse_dates=True)\n",
    "df_other = pd.read_csv(f'stock_data/{symbol_other}.csv',index_col=0,header=0,parse_dates=True)"
   ]
  },
  {
   "cell_type": "code",
   "execution_count": 8,
   "metadata": {},
   "outputs": [
    {
     "data": {
      "text/html": [
       "<div>\n",
       "<style scoped>\n",
       "    .dataframe tbody tr th:only-of-type {\n",
       "        vertical-align: middle;\n",
       "    }\n",
       "\n",
       "    .dataframe tbody tr th {\n",
       "        vertical-align: top;\n",
       "    }\n",
       "\n",
       "    .dataframe thead th {\n",
       "        text-align: right;\n",
       "    }\n",
       "</style>\n",
       "<table border=\"1\" class=\"dataframe\">\n",
       "  <thead>\n",
       "    <tr style=\"text-align: right;\">\n",
       "      <th></th>\n",
       "      <th>Open</th>\n",
       "      <th>High</th>\n",
       "      <th>Low</th>\n",
       "      <th>Close</th>\n",
       "      <th>Adj Close</th>\n",
       "      <th>Volume</th>\n",
       "    </tr>\n",
       "    <tr>\n",
       "      <th>Date</th>\n",
       "      <th></th>\n",
       "      <th></th>\n",
       "      <th></th>\n",
       "      <th></th>\n",
       "      <th></th>\n",
       "      <th></th>\n",
       "    </tr>\n",
       "  </thead>\n",
       "  <tbody>\n",
       "    <tr>\n",
       "      <th>2005-01-03</th>\n",
       "      <td>4.939940</td>\n",
       "      <td>5.096096</td>\n",
       "      <td>4.891391</td>\n",
       "      <td>5.072823</td>\n",
       "      <td>5.072823</td>\n",
       "      <td>633134232</td>\n",
       "    </tr>\n",
       "    <tr>\n",
       "      <th>2005-01-04</th>\n",
       "      <td>5.040040</td>\n",
       "      <td>5.078328</td>\n",
       "      <td>4.841842</td>\n",
       "      <td>4.867367</td>\n",
       "      <td>4.867367</td>\n",
       "      <td>549685764</td>\n",
       "    </tr>\n",
       "    <tr>\n",
       "      <th>2005-01-05</th>\n",
       "      <td>4.841091</td>\n",
       "      <td>4.927427</td>\n",
       "      <td>4.810561</td>\n",
       "      <td>4.842593</td>\n",
       "      <td>4.842593</td>\n",
       "      <td>329134536</td>\n",
       "    </tr>\n",
       "    <tr>\n",
       "      <th>2005-01-06</th>\n",
       "      <td>4.881882</td>\n",
       "      <td>4.902402</td>\n",
       "      <td>4.697698</td>\n",
       "      <td>4.718468</td>\n",
       "      <td>4.718468</td>\n",
       "      <td>415068516</td>\n",
       "    </tr>\n",
       "    <tr>\n",
       "      <th>2005-01-07</th>\n",
       "      <td>4.770771</td>\n",
       "      <td>4.861111</td>\n",
       "      <td>4.724224</td>\n",
       "      <td>4.851101</td>\n",
       "      <td>4.851101</td>\n",
       "      <td>386129484</td>\n",
       "    </tr>\n",
       "  </tbody>\n",
       "</table>\n",
       "</div>"
      ],
      "text/plain": [
       "                Open      High       Low     Close  Adj Close     Volume\n",
       "Date                                                                    \n",
       "2005-01-03  4.939940  5.096096  4.891391  5.072823   5.072823  633134232\n",
       "2005-01-04  5.040040  5.078328  4.841842  4.867367   4.867367  549685764\n",
       "2005-01-05  4.841091  4.927427  4.810561  4.842593   4.842593  329134536\n",
       "2005-01-06  4.881882  4.902402  4.697698  4.718468   4.718468  415068516\n",
       "2005-01-07  4.770771  4.861111  4.724224  4.851101   4.851101  386129484"
      ]
     },
     "execution_count": 8,
     "metadata": {},
     "output_type": "execute_result"
    }
   ],
   "source": [
    "df_us.head()"
   ]
  },
  {
   "cell_type": "code",
   "execution_count": null,
   "metadata": {},
   "outputs": [],
   "source": []
  }
 ],
 "metadata": {
  "kernelspec": {
   "display_name": "Python 3",
   "language": "python",
   "name": "python3"
  },
  "language_info": {
   "codemirror_mode": {
    "name": "ipython",
    "version": 3
   },
   "file_extension": ".py",
   "mimetype": "text/x-python",
   "name": "python",
   "nbconvert_exporter": "python",
   "pygments_lexer": "ipython3",
   "version": "3.9.5"
  }
 },
 "nbformat": 4,
 "nbformat_minor": 4
}
