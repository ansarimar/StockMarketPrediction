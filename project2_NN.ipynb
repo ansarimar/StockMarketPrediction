{
 "cells": [
  {
   "cell_type": "code",
   "execution_count": 418,
   "id": "f612c70f-02b0-446c-a427-523b7b02b5b5",
   "metadata": {},
   "outputs": [],
   "source": [
    "import numpy as np\n",
    "import pandas as pd\n",
    "import time\n",
    "import datetime\n",
    "import matplotlib.pyplot as plt\n",
    "\n",
    "import torch\n",
    "import torch.nn as nn\n",
    "import torch.nn.functional as f\n",
    "import torch.optim as optim\n",
    "import torchinfo\n",
    "from torchviz import make_dot\n",
    "\n",
    "from torch.autograd import Variable"
   ]
  },
  {
   "cell_type": "code",
   "execution_count": 419,
   "id": "4229d8ee-fcdc-442c-8df0-d7b4383c07db",
   "metadata": {},
   "outputs": [
    {
     "data": {
      "text/plain": [
       "device(type='cuda', index=0)"
      ]
     },
     "execution_count": 419,
     "metadata": {},
     "output_type": "execute_result"
    }
   ],
   "source": [
    "device = torch.device(\"cuda:0\" if torch.cuda.is_available() else \"cpu\")\n",
    "device"
   ]
  },
  {
   "cell_type": "code",
   "execution_count": 665,
   "id": "3a4079ff-9d83-45a4-8fa1-b7e599b18a63",
   "metadata": {},
   "outputs": [],
   "source": [
    "symbol = 'GOOGL'\n",
    "df = pd.read_csv(f'stock_data/{symbol}.csv',index_col=0, header=0, parse_dates=True)"
   ]
  },
  {
   "cell_type": "code",
   "execution_count": 666,
   "id": "567173d8-316b-4eb4-b62f-3bdd3b7c7d83",
   "metadata": {},
   "outputs": [],
   "source": [
    "# symbol_us = 'BABA'\n",
    "# symbol_other = '9988.HK'\n",
    "# df = pd.read_csv(f'stock_data/{symbol_us}.csv',header=0, index_col=0, parse_dates=True)\n",
    "# df_other = pd.read_csv(f'stock_data/{symbol_other}.csv',header=0, index_col=0, parse_dates=True)"
   ]
  },
  {
   "cell_type": "code",
   "execution_count": 667,
   "id": "2eeb0738-3b21-4a34-96a7-54d6c2faf3d9",
   "metadata": {},
   "outputs": [
    {
     "data": {
      "text/plain": [
       "(4113, 1)"
      ]
     },
     "execution_count": 667,
     "metadata": {},
     "output_type": "execute_result"
    }
   ],
   "source": [
    "#Preprocess1\n",
    "from sklearn import preprocessing\n",
    "n = int(len(df)*.7)\n",
    "data = df.values\n",
    "labels = df['Open'].values.reshape(-1,1) # Open value of Tomorrow\n",
    "\n",
    "data_normalizer = preprocessing.StandardScaler()\n",
    "data_train = data_normalizer.fit_transform(data[:n])\n",
    "\n",
    "labels_normalizer = preprocessing.StandardScaler()\n",
    "labels_train = labels_normalizer.fit_transform(labels[:n])\n",
    "\n",
    "data_test = data_normalizer.fit_transform(data[n:,])\n",
    "\n",
    "labels_test = labels_normalizer.fit_transform(labels[n:,])\n",
    "labels.shape"
   ]
  },
  {
   "cell_type": "code",
   "execution_count": 668,
   "id": "46f45ab4-ce45-4cdf-ab26-a56b5282ff6f",
   "metadata": {},
   "outputs": [
    {
     "name": "stdout",
     "output_type": "stream",
     "text": [
      "data_train:(2878, 1, 6),labels_train:(2878, 1)\n",
      "data_test:(1233, 1, 6),labels_test:(1233, 1)\n"
     ]
    },
    {
     "data": {
      "text/plain": [
       "1233"
      ]
     },
     "execution_count": 668,
     "metadata": {},
     "output_type": "execute_result"
    }
   ],
   "source": [
    "#Preprocess2: Create n_days time-steps to feed to LSTM\n",
    "\n",
    "def pre_process(data,labels,n_days):\n",
    "    if n_days <1:\n",
    "        raise Exception(\"n_days should be 1 or more\")\n",
    "        \n",
    "    labels = labels[n_days:]\n",
    "    data_n_days = np.array([data[i-n_days:i,] for i in range(n_days,len(data))])\n",
    "    return data_n_days, labels\n",
    "\n",
    "n_days = 1\n",
    "data_train, labels_train = pre_process(data_train,labels_train,n_days)\n",
    "data_test, labels_test = pre_process(data_test,labels_test,n_days)\n",
    "print(f'data_train:{data_train.shape},labels_train:{labels_train.shape}')\n",
    "print(f'data_test:{data_test.shape},labels_test:{labels_test.shape}')\n",
    "\n",
    "index_labels_train = df.index[n_days:n]\n",
    "index_labels_test = df.index[n+n_days:]\n",
    "len(index_labels_test)"
   ]
  },
  {
   "cell_type": "code",
   "execution_count": 669,
   "id": "9f58e2ec-9955-46cb-9ed9-dec96353b4a9",
   "metadata": {},
   "outputs": [
    {
     "name": "stdout",
     "output_type": "stream",
     "text": [
      "data_train:torch.Size([2878, 1, 6]),labels_train:torch.Size([2878, 1])\n",
      "data_test:torch.Size([1233, 1, 6]),labels_test:torch.Size([1233, 1])\n"
     ]
    }
   ],
   "source": [
    "data_train = torch.tensor(data_train,device=device)\n",
    "labels_train = torch.tensor(labels_train,device=device)\n",
    "\n",
    "data_test = torch.tensor(data_test,device=device)\n",
    "labels_test = torch.tensor(labels_test,device=device)\n",
    "\n",
    "print(f'data_train:{data_train.shape},labels_train:{labels_train.shape}')\n",
    "print(f'data_test:{data_test.shape},labels_test:{labels_test.shape}')\n"
   ]
  },
  {
   "cell_type": "code",
   "execution_count": 670,
   "id": "fa9966ff-1404-402e-be64-7bcb00a40bed",
   "metadata": {},
   "outputs": [],
   "source": [
    "class Stock_lstm(nn.Module):\n",
    "    def __init__(self,input_features,hidden_features,num_layers, n_days):\n",
    "        super(Stock_lstm,self).__init__()\n",
    "        self.input_features = input_features\n",
    "        self.hidden_features = hidden_features\n",
    "        self.num_layers = num_layers\n",
    "        self.n_days = n_days, #or time_step\n",
    "        \n",
    "        self.lstm = nn.LSTM(input_features,hidden_features,num_layers,batch_first = True)\n",
    "        self.fc_1 = nn.Linear(hidden_features*n_days,128)\n",
    "        self.fc_2 = nn.Linear(128, num_classes)\n",
    "        self.relu = nn.ReLU()\n",
    "        \n",
    "    def forward(self,x):\n",
    "       # input.shape: (batch,n_days,input_features)\n",
    "       # h_0 = Variable(torch.zeros(self.num_layers, x.size(0), self.hidden_size)).to(device) #hidden state\n",
    "       # c_0 = Variable(torch.zeros(self.num_layers, x.size(0), self.hidden_size)).to(device) #internal state\n",
    "        \n",
    "        x, _ = self.lstm(x) # output.shape: (batch,n_days,output_features)\n",
    "        x = x.reshape(x.shape[0],-1) # output.shape: (batch,n_days*output_features)\n",
    "        x= self.fc_1(x)\n",
    "        x = self.relu(x)\n",
    "        x = self.fc_2(x)\n",
    "        return x"
   ]
  },
  {
   "cell_type": "code",
   "execution_count": 693,
   "id": "0e256888-c36a-4a6c-9674-fdd6da098c1d",
   "metadata": {},
   "outputs": [
    {
     "data": {
      "text/plain": [
       "==========================================================================================\n",
       "Layer (type:depth-idx)                   Output Shape              Param #\n",
       "==========================================================================================\n",
       "Stock_lstm                               --                        --\n",
       "├─LSTM: 1-1                              [2878, 1, 2]              80\n",
       "├─Linear: 1-2                            [2878, 128]               384\n",
       "├─ReLU: 1-3                              [2878, 128]               --\n",
       "├─Linear: 1-4                            [2878, 1]                 129\n",
       "==========================================================================================\n",
       "Total params: 593\n",
       "Trainable params: 593\n",
       "Non-trainable params: 0\n",
       "Total mult-adds (M): 1.71\n",
       "==========================================================================================\n",
       "Input size (MB): 0.07\n",
       "Forward/backward pass size (MB): 3.02\n",
       "Params size (MB): 0.00\n",
       "Estimated Total Size (MB): 3.09\n",
       "=========================================================================================="
      ]
     },
     "execution_count": 693,
     "metadata": {},
     "output_type": "execute_result"
    }
   ],
   "source": [
    "epochs = 1000 #1000 epochs\n",
    "learning_rate = 0.001 #0.001 lr\n",
    "\n",
    "input_features = 6 #number of features\n",
    "hidden_features = 2 #number of features in hidden state\n",
    "num_layers = 1 #number of stacked lstm layers\n",
    "batch_size = data_train.shape[0]\n",
    "\n",
    "stock_lstm = Stock_lstm(input_features,hidden_features,num_layers,n_days) #our lstm class \n",
    "stock_lstm.to(device)\n",
    "torchinfo.summary(stock_lstm,(batch_size, n_days, input_features))"
   ]
  },
  {
   "cell_type": "code",
   "execution_count": 694,
   "id": "38594e4d-c2d7-47b8-99f2-8455a1c49034",
   "metadata": {},
   "outputs": [
    {
     "name": "stdout",
     "output_type": "stream",
     "text": [
      "Epoch:0,  loss:1.0512977838516235\n",
      "Epoch:1000,  loss:0.001162216765806079\n",
      "Epoch:2000,  loss:0.0008157167467288673\n",
      "Epoch:3000,  loss:0.0007173824706114829\n",
      "Epoch:4000,  loss:0.0006703290273435414\n",
      "Epoch:5000,  loss:0.0006472954410128295\n",
      "Epoch:6000,  loss:0.000629895890597254\n",
      "Epoch:7000,  loss:0.0006200032075867057\n",
      "Epoch:8000,  loss:0.0006090222159400582\n",
      "Epoch:9000,  loss:0.0006030987133271992\n",
      "Epoch:10000,  loss:0.0006002991576679051\n",
      "Epoch:11000,  loss:0.0005970963393338025\n",
      "Epoch:12000,  loss:0.0005954075022600591\n",
      "Epoch:13000,  loss:0.0006052260869182646\n",
      "Epoch:14000,  loss:0.0005941827548667789\n",
      "Epoch:15000,  loss:0.0005940318224020302\n",
      "Epoch:16000,  loss:0.0005956505774520338\n",
      "Epoch:17000,  loss:0.0005920058465562761\n",
      "Epoch:18000,  loss:0.0005961425486020744\n",
      "Epoch:19000,  loss:0.0005914061912335455\n",
      "Epoch:20000,  loss:0.000590883253607899\n",
      "Epoch:21000,  loss:0.0005920884432271123\n",
      "Epoch:22000,  loss:0.000592241995036602\n",
      "Epoch:23000,  loss:0.0005953499930910766\n",
      "Epoch:24000,  loss:0.0005907340673729777\n",
      "Epoch:25000,  loss:0.0005896653165109456\n",
      "Epoch:26000,  loss:0.0005888930754736066\n",
      "Epoch:27000,  loss:0.0005886215949431062\n",
      "Epoch:28000,  loss:0.0005885253776796162\n",
      "Epoch:29000,  loss:0.0005900141550228\n",
      "Epoch:30000,  loss:0.0005895106005482376\n",
      "Epoch:31000,  loss:0.000587888527661562\n",
      "Epoch:32000,  loss:0.0005884512211196125\n",
      "Epoch:33000,  loss:0.0005892729386687279\n",
      "Epoch:34000,  loss:0.000593843637034297\n",
      "Epoch:35000,  loss:0.000589913222938776\n",
      "Epoch:36000,  loss:0.0005902906996197999\n",
      "Epoch:37000,  loss:0.0005890418542549014\n",
      "Epoch:38000,  loss:0.0005863659316673875\n",
      "Epoch:39000,  loss:0.0005856200587004423\n",
      "Epoch:40000,  loss:0.0005869364249520004\n",
      "Epoch:41000,  loss:0.0005865040584467351\n",
      "Epoch:42000,  loss:0.0005854740156792104\n",
      "Epoch:43000,  loss:0.0005871850298717618\n",
      "Epoch:44000,  loss:0.0005849306471645832\n",
      "Epoch:45000,  loss:0.0005867933505214751\n",
      "Epoch:46000,  loss:0.000584262132178992\n",
      "Epoch:47000,  loss:0.0005855678464286029\n",
      "Epoch:48000,  loss:0.0005895397625863552\n",
      "Epoch:49000,  loss:0.000584063061978668\n",
      "Epoch:50000,  loss:0.0005839940276928246\n"
     ]
    }
   ],
   "source": [
    "criterion = torch.nn.MSELoss()    # mean-squared error for regression\n",
    "optimizer = torch.optim.Adam(stock_lstm.parameters(), lr=1e-3) \n",
    "for epoch in range(50001):  \n",
    "    outputs = stock_lstm.forward(data_train.float())\n",
    "    optimizer.zero_grad()\n",
    "\n",
    "    loss = criterion(outputs,labels_train.float())\n",
    "    loss.backward()\n",
    "    optimizer.step()\n",
    "    if epoch%1000==0:\n",
    "        print(f'Epoch:{epoch},  loss:{loss.item()}')\n",
    "        "
   ]
  },
  {
   "cell_type": "code",
   "execution_count": 695,
   "id": "83be6587-211c-4eea-80ae-344d982d84a0",
   "metadata": {},
   "outputs": [
    {
     "name": "stdout",
     "output_type": "stream",
     "text": [
      "Epoch:0,  loss:0.0005840032827109098\n",
      "Epoch:1000,  loss:0.0005842781974934042\n",
      "Epoch:2000,  loss:0.000583705201279372\n",
      "Epoch:3000,  loss:0.0005835597985424101\n",
      "Epoch:4000,  loss:0.0005835106712765992\n",
      "Epoch:5000,  loss:0.0005834851763211191\n",
      "Epoch:6000,  loss:0.0005838115466758609\n",
      "Epoch:7000,  loss:0.0005837829667143524\n",
      "Epoch:8000,  loss:0.0005833832547068596\n",
      "Epoch:9000,  loss:0.0005833319155499339\n",
      "Epoch:10000,  loss:0.0005832706810906529\n",
      "Epoch:11000,  loss:0.0005832270253449678\n",
      "Epoch:12000,  loss:0.000583201996050775\n",
      "Epoch:13000,  loss:0.0005831554881297052\n",
      "Epoch:14000,  loss:0.0005833840696141124\n",
      "Epoch:15000,  loss:0.0005830866866745055\n",
      "Epoch:16000,  loss:0.0005831667222082615\n",
      "Epoch:17000,  loss:0.0005830269656144083\n",
      "Epoch:18000,  loss:0.0005832791794091463\n",
      "Epoch:19000,  loss:0.0005829635774716735\n",
      "Epoch:20000,  loss:0.0005833731265738606\n",
      "Epoch:21000,  loss:0.0005828308640047908\n",
      "Epoch:22000,  loss:0.0005826862179674208\n",
      "Epoch:23000,  loss:0.0005827477434650064\n",
      "Epoch:24000,  loss:0.0005833229515701532\n",
      "Epoch:25000,  loss:0.0005825335974805057\n",
      "Epoch:26000,  loss:0.0005827589193359017\n",
      "Epoch:27000,  loss:0.0005824512336403131\n",
      "Epoch:28000,  loss:0.0005824516410939395\n",
      "Epoch:29000,  loss:0.0005823797546327114\n",
      "Epoch:30000,  loss:0.0005823757383041084\n",
      "Epoch:31000,  loss:0.0005822913371957839\n",
      "Epoch:32000,  loss:0.0005822921521030366\n",
      "Epoch:33000,  loss:0.0005822593811899424\n",
      "Epoch:34000,  loss:0.0005822460516355932\n",
      "Epoch:35000,  loss:0.0005824363324791193\n",
      "Epoch:36000,  loss:0.000582092150580138\n",
      "Epoch:37000,  loss:0.0005822352832183242\n",
      "Epoch:38000,  loss:0.00058205850655213\n",
      "Epoch:39000,  loss:0.0005823859246447682\n",
      "Epoch:40000,  loss:0.0005819483194500208\n",
      "Epoch:41000,  loss:0.0005819151410833001\n",
      "Epoch:42000,  loss:0.0005822773091495037\n",
      "Epoch:43000,  loss:0.0005818766658194363\n",
      "Epoch:44000,  loss:0.0005818074569106102\n",
      "Epoch:45000,  loss:0.000581790751311928\n",
      "Epoch:46000,  loss:0.0005817238707095385\n",
      "Epoch:47000,  loss:0.0005827108398079872\n",
      "Epoch:48000,  loss:0.000581644824706018\n",
      "Epoch:49000,  loss:0.0005816940683871508\n",
      "Epoch:50000,  loss:0.0005815738695673645\n"
     ]
    }
   ],
   "source": [
    "criterion = torch.nn.MSELoss()    # mean-squared error for regression\n",
    "optimizer = torch.optim.Adam(stock_lstm.parameters(), lr=1e-4) \n",
    "for epoch in range(50001):  \n",
    "    outputs = stock_lstm.forward(data_train.float())\n",
    "    optimizer.zero_grad()\n",
    "\n",
    "    loss = criterion(outputs,labels_train.float())\n",
    "    loss.backward()\n",
    "    optimizer.step()\n",
    "    if epoch%1000==0:\n",
    "        print(f'Epoch:{epoch},  loss:{loss.item()}')"
   ]
  },
  {
   "cell_type": "code",
   "execution_count": 696,
   "id": "c1fc4101-61bc-4574-b142-35641c43aa71",
   "metadata": {},
   "outputs": [],
   "source": [
    "with torch.no_grad():\n",
    "    outputs = stock_lstm(data_test.float())\n",
    "\n",
    "results = labels_normalizer.inverse_transform(outputs.cpu())\n",
    "results = pd.DataFrame(results, index=index_labels_test,columns=['Prediction'])\n",
    "results['Target'] = labels_normalizer.inverse_transform(labels_test.cpu())"
   ]
  },
  {
   "cell_type": "code",
   "execution_count": 713,
   "id": "cce198bd-08d3-4d06-8679-373b2498717e",
   "metadata": {},
   "outputs": [
    {
     "data": {
      "text/plain": [
       "<matplotlib.legend.Legend at 0x175252a3bb0>"
      ]
     },
     "execution_count": 713,
     "metadata": {},
     "output_type": "execute_result"
    },
    {
     "data": {
      "image/png": "[encoded data removed]",
      "text/plain": [
       "<Figure size 864x432 with 1 Axes>"
      ]
     },
     "metadata": {
      "needs_background": "light"
     },
     "output_type": "display_data"
    }
   ],
   "source": [
    "plt.figure(figsize=(12,6))\n",
    "plt.plot(results['Prediction'],'r')\n",
    "plt.plot(results['Target'],'b')\n",
    "plt.legend(['Prediction', 'Target'])"
   ]
  },
  {
   "cell_type": "code",
   "execution_count": 711,
   "id": "14234a19-8bf0-407f-9a26-75c90527874f",
   "metadata": {},
   "outputs": [
    {
     "data": {
      "text/plain": [
       "<matplotlib.legend.Legend at 0x17525248b80>"
      ]
     },
     "execution_count": 711,
     "metadata": {},
     "output_type": "execute_result"
    },
    {
     "data": {
      "image/png": "[encoded data removed]",
      "text/plain": [
       "<Figure size 864x432 with 1 Axes>"
      ]
     },
     "metadata": {
      "needs_background": "light"
     },
     "output_type": "display_data"
    }
   ],
   "source": [
    "plt.figure(figsize=(12,6))\n",
    "plt.plot(results.loc['2021-04-25':]['Prediction'],'r')\n",
    "plt.plot(results.loc['2021-04-25':]['Target'],'b')\n",
    "plt.legend(['Prediction', 'Target'])"
   ]
  },
  {
   "cell_type": "code",
   "execution_count": 702,
   "id": "1a3eebe5-e3d0-4151-b57d-5e32c741585a",
   "metadata": {},
   "outputs": [
    {
     "name": "stdout",
     "output_type": "stream",
     "text": [
      "Open Prediction: \n",
      " MSE: 398.01169090599456, R-Squared: 0.9964943558349839\n"
     ]
    }
   ],
   "source": [
    "mse = np.sum((results['Target']-results['Prediction'])**2,axis=0)/len(results['Target'])\n",
    "r_squared = 1-np.sum((results['Target']-results['Prediction'])**2,axis=0)/np.sum((results['Target']-results['Target'].mean())**2,axis=0)\n",
    "print(f'Open Prediction: \\n MSE: {mse}, R-Squared: {r_squared}')"
   ]
  },
  {
   "cell_type": "code",
   "execution_count": 712,
   "id": "fa229258-a8e1-4f1c-867a-b4fbf30c4aeb",
   "metadata": {
    "scrolled": true,
    "tags": []
   },
   "outputs": [
    {
     "name": "stdout",
     "output_type": "stream",
     "text": [
      "Open Prediction from 2021-04-25 to 2021-05-24: \n",
      ": \n",
      " MSE: 17689.157327727247, R-Squared: -15.193999799336385\n"
     ]
    }
   ],
   "source": [
    "mse = np.sum((results['Target'].loc['2021-04-25':]-results['Prediction'].loc['2021-04-25':])**2,axis=0)/len(results['Target'].loc['2021-04-25':])\n",
    "r_squared = 1-(np.sum((results['Target'].loc['2021-04-25':]-results['Prediction'].loc['2021-04-25':])**2,axis=0)/np.sum((results['Target'].loc['2021-04-25':]-results['Target'].loc['2021-04-25':].mean())**2,axis=0))\n",
    "\n",
    "print(f'Open Prediction from 2021-04-25 to 2021-05-24: \\n: \\n MSE: {mse}, R-Squared: {r_squared}')"
   ]
  },
  {
   "cell_type": "code",
   "execution_count": 707,
   "id": "dd9be3a9-7faf-4e4e-b049-5a37da6d6c96",
   "metadata": {},
   "outputs": [
    {
     "data": {
      "text/plain": [
       "9112.868054092463"
      ]
     },
     "execution_count": 707,
     "metadata": {},
     "output_type": "execute_result"
    }
   ],
   "source": [
    "np.sum((results['Target'].loc['2021-04-27':].values-results['Target'].loc['2021-04-26':'2021-05-04'].values)**2,axis=0)"
   ]
  },
  {
   "cell_type": "code",
   "execution_count": 710,
   "id": "f96ae7fa-bb29-422f-a6c3-8706e8a44439",
   "metadata": {},
   "outputs": [
    {
     "data": {
      "text/plain": [
       "136021.05908944982"
      ]
     },
     "execution_count": 710,
     "metadata": {},
     "output_type": "execute_result"
    }
   ],
   "source": [
    "np.sum((results['Target'].loc['2021-04-27':]-results['Prediction'].loc['2021-04-27':])**2,axis=0)"
   ]
  },
  {
   "cell_type": "code",
   "execution_count": 613,
   "id": "d4f14430-395e-49f1-ad69-757bfb69fe4a",
   "metadata": {},
   "outputs": [
    {
     "data": {
      "image/svg+xml": [
       "<?xml version=\"1.0\" encoding=\"UTF-8\" standalone=\"no\"?>\r\n",
       "<!DOCTYPE svg PUBLIC \"-//W3C//DTD SVG 1.1//EN\"\r\n",
       " \"http://www.w3.org/Graphics/SVG/1.1/DTD/svg11.dtd\">\r\n",
       "<!-- Generated by graphviz version 2.47.1 (20210417.1919)\r\n",
       " -->\r\n",
       "<!-- Pages: 1 -->\r\n",
       "<svg width=\"603pt\" height=\"534pt\"\r\n",
       " viewBox=\"0.00 0.00 603.00 534.00\" xmlns=\"http://www.w3.org/2000/svg\" xmlns:xlink=\"http://www.w3.org/1999/xlink\">\r\n",
       "<g id=\"graph0\" class=\"graph\" transform=\"scale(1 1) rotate(0) translate(4 530)\">\r\n",
       "<polygon fill=\"white\" stroke=\"transparent\" points=\"-4,4 -4,-530 599,-530 599,4 -4,4\"/>\r\n",
       "<!-- 1602594287424 -->\r\n",
       "<g id=\"node1\" class=\"node\">\r\n",
       "<title>1602594287424</title>\r\n",
       "<polygon fill=\"#caff70\" stroke=\"black\" points=\"380.5,-31 326.5,-31 326.5,0 380.5,0 380.5,-31\"/>\r\n",
       "<text text-anchor=\"middle\" x=\"353.5\" y=\"-7\" font-family=\"monospace\" font-size=\"10.00\"> ()</text>\r\n",
       "</g>\r\n",
       "<!-- 1602616058640 -->\r\n",
       "<g id=\"node2\" class=\"node\">\r\n",
       "<title>1602616058640</title>\r\n",
       "<polygon fill=\"lightgrey\" stroke=\"black\" points=\"401,-86 306,-86 306,-67 401,-67 401,-86\"/>\r\n",
       "<text text-anchor=\"middle\" x=\"353.5\" y=\"-74\" font-family=\"monospace\" font-size=\"10.00\">MeanBackward0</text>\r\n",
       "</g>\r\n",
       "<!-- 1602616058640&#45;&gt;1602594287424 -->\r\n",
       "<g id=\"edge24\" class=\"edge\">\r\n",
       "<title>1602616058640&#45;&gt;1602594287424</title>\r\n",
       "<path fill=\"none\" stroke=\"black\" d=\"M353.5,-66.79C353.5,-60.07 353.5,-50.4 353.5,-41.34\"/>\r\n",
       "<polygon fill=\"black\" stroke=\"black\" points=\"357,-41.19 353.5,-31.19 350,-41.19 357,-41.19\"/>\r\n",
       "</g>\r\n",
       "<!-- 1602616058400 -->\r\n",
       "<g id=\"node3\" class=\"node\">\r\n",
       "<title>1602616058400</title>\r\n",
       "<polygon fill=\"lightgrey\" stroke=\"black\" points=\"401,-141 306,-141 306,-122 401,-122 401,-141\"/>\r\n",
       "<text text-anchor=\"middle\" x=\"353.5\" y=\"-129\" font-family=\"monospace\" font-size=\"10.00\">AddmmBackward</text>\r\n",
       "</g>\r\n",
       "<!-- 1602616058400&#45;&gt;1602616058640 -->\r\n",
       "<g id=\"edge1\" class=\"edge\">\r\n",
       "<title>1602616058400&#45;&gt;1602616058640</title>\r\n",
       "<path fill=\"none\" stroke=\"black\" d=\"M353.5,-121.75C353.5,-114.8 353.5,-104.85 353.5,-96.13\"/>\r\n",
       "<polygon fill=\"black\" stroke=\"black\" points=\"357,-96.09 353.5,-86.09 350,-96.09 357,-96.09\"/>\r\n",
       "</g>\r\n",
       "<!-- 1602616061280 -->\r\n",
       "<g id=\"node4\" class=\"node\">\r\n",
       "<title>1602616061280</title>\r\n",
       "<polygon fill=\"lightgrey\" stroke=\"black\" points=\"288,-196 187,-196 187,-177 288,-177 288,-196\"/>\r\n",
       "<text text-anchor=\"middle\" x=\"237.5\" y=\"-184\" font-family=\"monospace\" font-size=\"10.00\">AccumulateGrad</text>\r\n",
       "</g>\r\n",
       "<!-- 1602616061280&#45;&gt;1602616058400 -->\r\n",
       "<g id=\"edge2\" class=\"edge\">\r\n",
       "<title>1602616061280&#45;&gt;1602616058400</title>\r\n",
       "<path fill=\"none\" stroke=\"black\" d=\"M256.14,-176.98C274.8,-168.46 303.75,-155.23 325.24,-145.41\"/>\r\n",
       "<polygon fill=\"black\" stroke=\"black\" points=\"326.88,-148.51 334.52,-141.17 323.97,-142.14 326.88,-148.51\"/>\r\n",
       "</g>\r\n",
       "<!-- 1602591839296 -->\r\n",
       "<g id=\"node5\" class=\"node\">\r\n",
       "<title>1602591839296</title>\r\n",
       "<polygon fill=\"lightblue\" stroke=\"black\" points=\"273,-262 202,-262 202,-232 273,-232 273,-262\"/>\r\n",
       "<text text-anchor=\"middle\" x=\"237.5\" y=\"-250\" font-family=\"monospace\" font-size=\"10.00\">fc_2.bias</text>\r\n",
       "<text text-anchor=\"middle\" x=\"237.5\" y=\"-239\" font-family=\"monospace\" font-size=\"10.00\"> (1)</text>\r\n",
       "</g>\r\n",
       "<!-- 1602591839296&#45;&gt;1602616061280 -->\r\n",
       "<g id=\"edge3\" class=\"edge\">\r\n",
       "<title>1602591839296&#45;&gt;1602616061280</title>\r\n",
       "<path fill=\"none\" stroke=\"black\" d=\"M237.5,-231.84C237.5,-224.21 237.5,-214.7 237.5,-206.45\"/>\r\n",
       "<polygon fill=\"black\" stroke=\"black\" points=\"241,-206.27 237.5,-196.27 234,-206.27 241,-206.27\"/>\r\n",
       "</g>\r\n",
       "<!-- 1602616058448 -->\r\n",
       "<g id=\"node6\" class=\"node\">\r\n",
       "<title>1602616058448</title>\r\n",
       "<polygon fill=\"lightgrey\" stroke=\"black\" points=\"401,-196 306,-196 306,-177 401,-177 401,-196\"/>\r\n",
       "<text text-anchor=\"middle\" x=\"353.5\" y=\"-184\" font-family=\"monospace\" font-size=\"10.00\">ReluBackward0</text>\r\n",
       "</g>\r\n",
       "<!-- 1602616058448&#45;&gt;1602616058400 -->\r\n",
       "<g id=\"edge4\" class=\"edge\">\r\n",
       "<title>1602616058448&#45;&gt;1602616058400</title>\r\n",
       "<path fill=\"none\" stroke=\"black\" d=\"M353.5,-176.75C353.5,-169.8 353.5,-159.85 353.5,-151.13\"/>\r\n",
       "<polygon fill=\"black\" stroke=\"black\" points=\"357,-151.09 353.5,-141.09 350,-151.09 357,-151.09\"/>\r\n",
       "</g>\r\n",
       "<!-- 1602616060896 -->\r\n",
       "<g id=\"node7\" class=\"node\">\r\n",
       "<title>1602616060896</title>\r\n",
       "<polygon fill=\"lightgrey\" stroke=\"black\" points=\"393,-256.5 298,-256.5 298,-237.5 393,-237.5 393,-256.5\"/>\r\n",
       "<text text-anchor=\"middle\" x=\"345.5\" y=\"-244.5\" font-family=\"monospace\" font-size=\"10.00\">AddmmBackward</text>\r\n",
       "</g>\r\n",
       "<!-- 1602616060896&#45;&gt;1602616058448 -->\r\n",
       "<g id=\"edge5\" class=\"edge\">\r\n",
       "<title>1602616060896&#45;&gt;1602616058448</title>\r\n",
       "<path fill=\"none\" stroke=\"black\" d=\"M346.68,-237.37C347.79,-229.25 349.49,-216.81 350.92,-206.39\"/>\r\n",
       "<polygon fill=\"black\" stroke=\"black\" points=\"354.43,-206.55 352.31,-196.17 347.49,-205.6 354.43,-206.55\"/>\r\n",
       "</g>\r\n",
       "<!-- 1602616058352 -->\r\n",
       "<g id=\"node8\" class=\"node\">\r\n",
       "<title>1602616058352</title>\r\n",
       "<polygon fill=\"lightgrey\" stroke=\"black\" points=\"264,-322.5 163,-322.5 163,-303.5 264,-303.5 264,-322.5\"/>\r\n",
       "<text text-anchor=\"middle\" x=\"213.5\" y=\"-310.5\" font-family=\"monospace\" font-size=\"10.00\">AccumulateGrad</text>\r\n",
       "</g>\r\n",
       "<!-- 1602616058352&#45;&gt;1602616060896 -->\r\n",
       "<g id=\"edge6\" class=\"edge\">\r\n",
       "<title>1602616058352&#45;&gt;1602616060896</title>\r\n",
       "<path fill=\"none\" stroke=\"black\" d=\"M231.3,-303.37C253.64,-292.54 292.18,-273.85 318.24,-261.22\"/>\r\n",
       "<polygon fill=\"black\" stroke=\"black\" points=\"320.09,-264.21 327.56,-256.7 317.03,-257.91 320.09,-264.21\"/>\r\n",
       "</g>\r\n",
       "<!-- 1602593515136 -->\r\n",
       "<g id=\"node9\" class=\"node\">\r\n",
       "<title>1602593515136</title>\r\n",
       "<polygon fill=\"lightblue\" stroke=\"black\" points=\"249,-394 178,-394 178,-364 249,-364 249,-394\"/>\r\n",
       "<text text-anchor=\"middle\" x=\"213.5\" y=\"-382\" font-family=\"monospace\" font-size=\"10.00\">fc_1.bias</text>\r\n",
       "<text text-anchor=\"middle\" x=\"213.5\" y=\"-371\" font-family=\"monospace\" font-size=\"10.00\"> (128)</text>\r\n",
       "</g>\r\n",
       "<!-- 1602593515136&#45;&gt;1602616058352 -->\r\n",
       "<g id=\"edge7\" class=\"edge\">\r\n",
       "<title>1602593515136&#45;&gt;1602616058352</title>\r\n",
       "<path fill=\"none\" stroke=\"black\" d=\"M213.5,-363.8C213.5,-354.7 213.5,-342.79 213.5,-332.9\"/>\r\n",
       "<polygon fill=\"black\" stroke=\"black\" points=\"217,-332.84 213.5,-322.84 210,-332.84 217,-332.84\"/>\r\n",
       "</g>\r\n",
       "<!-- 1602616060800 -->\r\n",
       "<g id=\"node10\" class=\"node\">\r\n",
       "<title>1602616060800</title>\r\n",
       "<polygon fill=\"lightgrey\" stroke=\"black\" points=\"371,-322.5 282,-322.5 282,-303.5 371,-303.5 371,-322.5\"/>\r\n",
       "<text text-anchor=\"middle\" x=\"326.5\" y=\"-310.5\" font-family=\"monospace\" font-size=\"10.00\">ViewBackward</text>\r\n",
       "</g>\r\n",
       "<!-- 1602616060800&#45;&gt;1602616060896 -->\r\n",
       "<g id=\"edge8\" class=\"edge\">\r\n",
       "<title>1602616060800&#45;&gt;1602616060896</title>\r\n",
       "<path fill=\"none\" stroke=\"black\" d=\"M329.06,-303.37C331.85,-293.97 336.39,-278.67 340,-266.53\"/>\r\n",
       "<polygon fill=\"black\" stroke=\"black\" points=\"343.37,-267.49 342.86,-256.91 336.65,-265.5 343.37,-267.49\"/>\r\n",
       "</g>\r\n",
       "<!-- 1602616061040 -->\r\n",
       "<g id=\"node11\" class=\"node\">\r\n",
       "<title>1602616061040</title>\r\n",
       "<polygon fill=\"lightgrey\" stroke=\"black\" points=\"381,-388.5 268,-388.5 268,-369.5 381,-369.5 381,-388.5\"/>\r\n",
       "<text text-anchor=\"middle\" x=\"324.5\" y=\"-376.5\" font-family=\"monospace\" font-size=\"10.00\">CudnnRnnBackward</text>\r\n",
       "</g>\r\n",
       "<!-- 1602616061040&#45;&gt;1602616060800 -->\r\n",
       "<g id=\"edge9\" class=\"edge\">\r\n",
       "<title>1602616061040&#45;&gt;1602616060800</title>\r\n",
       "<path fill=\"none\" stroke=\"black\" d=\"M324.77,-369.37C325.06,-360.16 325.52,-345.29 325.9,-333.27\"/>\r\n",
       "<polygon fill=\"black\" stroke=\"black\" points=\"329.41,-333.01 326.22,-322.91 322.41,-332.79 329.41,-333.01\"/>\r\n",
       "</g>\r\n",
       "<!-- 1602616058160 -->\r\n",
       "<g id=\"node12\" class=\"node\">\r\n",
       "<title>1602616058160</title>\r\n",
       "<polygon fill=\"lightgrey\" stroke=\"black\" points=\"119,-454.5 18,-454.5 18,-435.5 119,-435.5 119,-454.5\"/>\r\n",
       "<text text-anchor=\"middle\" x=\"68.5\" y=\"-442.5\" font-family=\"monospace\" font-size=\"10.00\">AccumulateGrad</text>\r\n",
       "</g>\r\n",
       "<!-- 1602616058160&#45;&gt;1602616061040 -->\r\n",
       "<g id=\"edge10\" class=\"edge\">\r\n",
       "<title>1602616058160&#45;&gt;1602616061040</title>\r\n",
       "<path fill=\"none\" stroke=\"black\" d=\"M102.76,-435.44C148.65,-423.96 230.11,-403.6 280.49,-391\"/>\r\n",
       "<polygon fill=\"black\" stroke=\"black\" points=\"281.59,-394.34 290.44,-388.51 279.89,-387.54 281.59,-394.34\"/>\r\n",
       "</g>\r\n",
       "<!-- 1602593091648 -->\r\n",
       "<g id=\"node13\" class=\"node\">\r\n",
       "<title>1602593091648</title>\r\n",
       "<polygon fill=\"lightblue\" stroke=\"black\" points=\"119,-526 0,-526 0,-496 119,-496 119,-526\"/>\r\n",
       "<text text-anchor=\"middle\" x=\"59.5\" y=\"-514\" font-family=\"monospace\" font-size=\"10.00\">lstm.weight_ih_l0</text>\r\n",
       "<text text-anchor=\"middle\" x=\"59.5\" y=\"-503\" font-family=\"monospace\" font-size=\"10.00\"> (8, 6)</text>\r\n",
       "</g>\r\n",
       "<!-- 1602593091648&#45;&gt;1602616058160 -->\r\n",
       "<g id=\"edge11\" class=\"edge\">\r\n",
       "<title>1602593091648&#45;&gt;1602616058160</title>\r\n",
       "<path fill=\"none\" stroke=\"black\" d=\"M61.5,-495.8C62.78,-486.7 64.45,-474.79 65.84,-464.9\"/>\r\n",
       "<polygon fill=\"black\" stroke=\"black\" points=\"69.33,-465.23 67.26,-454.84 62.4,-464.26 69.33,-465.23\"/>\r\n",
       "</g>\r\n",
       "<!-- 1602616058496 -->\r\n",
       "<g id=\"node14\" class=\"node\">\r\n",
       "<title>1602616058496</title>\r\n",
       "<polygon fill=\"lightgrey\" stroke=\"black\" points=\"250,-454.5 149,-454.5 149,-435.5 250,-435.5 250,-454.5\"/>\r\n",
       "<text text-anchor=\"middle\" x=\"199.5\" y=\"-442.5\" font-family=\"monospace\" font-size=\"10.00\">AccumulateGrad</text>\r\n",
       "</g>\r\n",
       "<!-- 1602616058496&#45;&gt;1602616061040 -->\r\n",
       "<g id=\"edge12\" class=\"edge\">\r\n",
       "<title>1602616058496&#45;&gt;1602616061040</title>\r\n",
       "<path fill=\"none\" stroke=\"black\" d=\"M216.36,-435.37C237.42,-424.59 273.68,-406.02 298.36,-393.38\"/>\r\n",
       "<polygon fill=\"black\" stroke=\"black\" points=\"300.2,-396.37 307.51,-388.7 297.01,-390.14 300.2,-396.37\"/>\r\n",
       "</g>\r\n",
       "<!-- 1602593108544 -->\r\n",
       "<g id=\"node15\" class=\"node\">\r\n",
       "<title>1602593108544</title>\r\n",
       "<polygon fill=\"lightblue\" stroke=\"black\" points=\"256,-526 137,-526 137,-496 256,-496 256,-526\"/>\r\n",
       "<text text-anchor=\"middle\" x=\"196.5\" y=\"-514\" font-family=\"monospace\" font-size=\"10.00\">lstm.weight_hh_l0</text>\r\n",
       "<text text-anchor=\"middle\" x=\"196.5\" y=\"-503\" font-family=\"monospace\" font-size=\"10.00\"> (8, 2)</text>\r\n",
       "</g>\r\n",
       "<!-- 1602593108544&#45;&gt;1602616058496 -->\r\n",
       "<g id=\"edge13\" class=\"edge\">\r\n",
       "<title>1602593108544&#45;&gt;1602616058496</title>\r\n",
       "<path fill=\"none\" stroke=\"black\" d=\"M197.17,-495.8C197.59,-486.7 198.15,-474.79 198.61,-464.9\"/>\r\n",
       "<polygon fill=\"black\" stroke=\"black\" points=\"202.11,-465 199.09,-454.84 195.12,-464.67 202.11,-465\"/>\r\n",
       "</g>\r\n",
       "<!-- 1602616058544 -->\r\n",
       "<g id=\"node16\" class=\"node\">\r\n",
       "<title>1602616058544</title>\r\n",
       "<polygon fill=\"lightgrey\" stroke=\"black\" points=\"375,-454.5 274,-454.5 274,-435.5 375,-435.5 375,-454.5\"/>\r\n",
       "<text text-anchor=\"middle\" x=\"324.5\" y=\"-442.5\" font-family=\"monospace\" font-size=\"10.00\">AccumulateGrad</text>\r\n",
       "</g>\r\n",
       "<!-- 1602616058544&#45;&gt;1602616061040 -->\r\n",
       "<g id=\"edge14\" class=\"edge\">\r\n",
       "<title>1602616058544&#45;&gt;1602616061040</title>\r\n",
       "<path fill=\"none\" stroke=\"black\" d=\"M324.5,-435.37C324.5,-426.16 324.5,-411.29 324.5,-399.27\"/>\r\n",
       "<polygon fill=\"black\" stroke=\"black\" points=\"328,-398.91 324.5,-388.91 321,-398.91 328,-398.91\"/>\r\n",
       "</g>\r\n",
       "<!-- 1602593116928 -->\r\n",
       "<g id=\"node17\" class=\"node\">\r\n",
       "<title>1602593116928</title>\r\n",
       "<polygon fill=\"lightblue\" stroke=\"black\" points=\"381,-526 274,-526 274,-496 381,-496 381,-526\"/>\r\n",
       "<text text-anchor=\"middle\" x=\"327.5\" y=\"-514\" font-family=\"monospace\" font-size=\"10.00\">lstm.bias_ih_l0</text>\r\n",
       "<text text-anchor=\"middle\" x=\"327.5\" y=\"-503\" font-family=\"monospace\" font-size=\"10.00\"> (8)</text>\r\n",
       "</g>\r\n",
       "<!-- 1602593116928&#45;&gt;1602616058544 -->\r\n",
       "<g id=\"edge15\" class=\"edge\">\r\n",
       "<title>1602593116928&#45;&gt;1602616058544</title>\r\n",
       "<path fill=\"none\" stroke=\"black\" d=\"M326.83,-495.8C326.41,-486.7 325.85,-474.79 325.39,-464.9\"/>\r\n",
       "<polygon fill=\"black\" stroke=\"black\" points=\"328.88,-464.67 324.91,-454.84 321.89,-465 328.88,-464.67\"/>\r\n",
       "</g>\r\n",
       "<!-- 1602616058208 -->\r\n",
       "<g id=\"node18\" class=\"node\">\r\n",
       "<title>1602616058208</title>\r\n",
       "<polygon fill=\"lightgrey\" stroke=\"black\" points=\"494,-454.5 393,-454.5 393,-435.5 494,-435.5 494,-454.5\"/>\r\n",
       "<text text-anchor=\"middle\" x=\"443.5\" y=\"-442.5\" font-family=\"monospace\" font-size=\"10.00\">AccumulateGrad</text>\r\n",
       "</g>\r\n",
       "<!-- 1602616058208&#45;&gt;1602616061040 -->\r\n",
       "<g id=\"edge16\" class=\"edge\">\r\n",
       "<title>1602616058208&#45;&gt;1602616061040</title>\r\n",
       "<path fill=\"none\" stroke=\"black\" d=\"M427.45,-435.37C407.49,-424.63 373.18,-406.18 349.7,-393.55\"/>\r\n",
       "<polygon fill=\"black\" stroke=\"black\" points=\"351.14,-390.35 340.67,-388.7 347.82,-396.52 351.14,-390.35\"/>\r\n",
       "</g>\r\n",
       "<!-- 1602593116288 -->\r\n",
       "<g id=\"node19\" class=\"node\">\r\n",
       "<title>1602593116288</title>\r\n",
       "<polygon fill=\"lightblue\" stroke=\"black\" points=\"506,-526 399,-526 399,-496 506,-496 506,-526\"/>\r\n",
       "<text text-anchor=\"middle\" x=\"452.5\" y=\"-514\" font-family=\"monospace\" font-size=\"10.00\">lstm.bias_hh_l0</text>\r\n",
       "<text text-anchor=\"middle\" x=\"452.5\" y=\"-503\" font-family=\"monospace\" font-size=\"10.00\"> (8)</text>\r\n",
       "</g>\r\n",
       "<!-- 1602593116288&#45;&gt;1602616058208 -->\r\n",
       "<g id=\"edge17\" class=\"edge\">\r\n",
       "<title>1602593116288&#45;&gt;1602616058208</title>\r\n",
       "<path fill=\"none\" stroke=\"black\" d=\"M450.5,-495.8C449.22,-486.7 447.55,-474.79 446.16,-464.9\"/>\r\n",
       "<polygon fill=\"black\" stroke=\"black\" points=\"449.6,-464.26 444.74,-454.84 442.67,-465.23 449.6,-464.26\"/>\r\n",
       "</g>\r\n",
       "<!-- 1602616060848 -->\r\n",
       "<g id=\"node20\" class=\"node\">\r\n",
       "<title>1602616060848</title>\r\n",
       "<polygon fill=\"lightgrey\" stroke=\"black\" points=\"460,-322.5 389,-322.5 389,-303.5 460,-303.5 460,-322.5\"/>\r\n",
       "<text text-anchor=\"middle\" x=\"424.5\" y=\"-310.5\" font-family=\"monospace\" font-size=\"10.00\">TBackward</text>\r\n",
       "</g>\r\n",
       "<!-- 1602616060848&#45;&gt;1602616060896 -->\r\n",
       "<g id=\"edge18\" class=\"edge\">\r\n",
       "<title>1602616060848&#45;&gt;1602616060896</title>\r\n",
       "<path fill=\"none\" stroke=\"black\" d=\"M413.85,-303.37C401.12,-293.06 379.62,-275.65 364.13,-263.09\"/>\r\n",
       "<polygon fill=\"black\" stroke=\"black\" points=\"366.21,-260.27 356.24,-256.7 361.8,-265.71 366.21,-260.27\"/>\r\n",
       "</g>\r\n",
       "<!-- 1602616061616 -->\r\n",
       "<g id=\"node21\" class=\"node\">\r\n",
       "<title>1602616061616</title>\r\n",
       "<polygon fill=\"lightgrey\" stroke=\"black\" points=\"552,-388.5 451,-388.5 451,-369.5 552,-369.5 552,-388.5\"/>\r\n",
       "<text text-anchor=\"middle\" x=\"501.5\" y=\"-376.5\" font-family=\"monospace\" font-size=\"10.00\">AccumulateGrad</text>\r\n",
       "</g>\r\n",
       "<!-- 1602616061616&#45;&gt;1602616060848 -->\r\n",
       "<g id=\"edge19\" class=\"edge\">\r\n",
       "<title>1602616061616&#45;&gt;1602616060848</title>\r\n",
       "<path fill=\"none\" stroke=\"black\" d=\"M491.12,-369.37C478.78,-359.12 457.99,-341.84 442.91,-329.31\"/>\r\n",
       "<polygon fill=\"black\" stroke=\"black\" points=\"445.14,-326.61 435.21,-322.91 440.67,-331.99 445.14,-326.61\"/>\r\n",
       "</g>\r\n",
       "<!-- 1602593514432 -->\r\n",
       "<g id=\"node22\" class=\"node\">\r\n",
       "<title>1602593514432</title>\r\n",
       "<polygon fill=\"lightblue\" stroke=\"black\" points=\"595,-460 512,-460 512,-430 595,-430 595,-460\"/>\r\n",
       "<text text-anchor=\"middle\" x=\"553.5\" y=\"-448\" font-family=\"monospace\" font-size=\"10.00\">fc_1.weight</text>\r\n",
       "<text text-anchor=\"middle\" x=\"553.5\" y=\"-437\" font-family=\"monospace\" font-size=\"10.00\"> (128, 2)</text>\r\n",
       "</g>\r\n",
       "<!-- 1602593514432&#45;&gt;1602616061616 -->\r\n",
       "<g id=\"edge20\" class=\"edge\">\r\n",
       "<title>1602593514432&#45;&gt;1602616061616</title>\r\n",
       "<path fill=\"none\" stroke=\"black\" d=\"M541.96,-429.8C534.01,-420.01 523.42,-406.98 515.07,-396.7\"/>\r\n",
       "<polygon fill=\"black\" stroke=\"black\" points=\"517.71,-394.4 508.69,-388.84 512.28,-398.81 517.71,-394.4\"/>\r\n",
       "</g>\r\n",
       "<!-- 1602616058880 -->\r\n",
       "<g id=\"node23\" class=\"node\">\r\n",
       "<title>1602616058880</title>\r\n",
       "<polygon fill=\"lightgrey\" stroke=\"black\" points=\"512,-196 441,-196 441,-177 512,-177 512,-196\"/>\r\n",
       "<text text-anchor=\"middle\" x=\"476.5\" y=\"-184\" font-family=\"monospace\" font-size=\"10.00\">TBackward</text>\r\n",
       "</g>\r\n",
       "<!-- 1602616058880&#45;&gt;1602616058400 -->\r\n",
       "<g id=\"edge21\" class=\"edge\">\r\n",
       "<title>1602616058880&#45;&gt;1602616058400</title>\r\n",
       "<path fill=\"none\" stroke=\"black\" d=\"M456.74,-176.98C436.77,-168.38 405.7,-154.99 382.85,-145.15\"/>\r\n",
       "<polygon fill=\"black\" stroke=\"black\" points=\"384.19,-141.91 373.62,-141.17 381.42,-148.34 384.19,-141.91\"/>\r\n",
       "</g>\r\n",
       "<!-- 1602616058016 -->\r\n",
       "<g id=\"node24\" class=\"node\">\r\n",
       "<title>1602616058016</title>\r\n",
       "<polygon fill=\"lightgrey\" stroke=\"black\" points=\"550,-256.5 449,-256.5 449,-237.5 550,-237.5 550,-256.5\"/>\r\n",
       "<text text-anchor=\"middle\" x=\"499.5\" y=\"-244.5\" font-family=\"monospace\" font-size=\"10.00\">AccumulateGrad</text>\r\n",
       "</g>\r\n",
       "<!-- 1602616058016&#45;&gt;1602616058880 -->\r\n",
       "<g id=\"edge22\" class=\"edge\">\r\n",
       "<title>1602616058016&#45;&gt;1602616058880</title>\r\n",
       "<path fill=\"none\" stroke=\"black\" d=\"M496.11,-237.37C492.84,-229.07 487.81,-216.28 483.66,-205.72\"/>\r\n",
       "<polygon fill=\"black\" stroke=\"black\" points=\"486.82,-204.19 479.91,-196.17 480.31,-206.75 486.82,-204.19\"/>\r\n",
       "</g>\r\n",
       "<!-- 1602593050112 -->\r\n",
       "<g id=\"node25\" class=\"node\">\r\n",
       "<title>1602593050112</title>\r\n",
       "<polygon fill=\"lightblue\" stroke=\"black\" points=\"561,-328 478,-328 478,-298 561,-298 561,-328\"/>\r\n",
       "<text text-anchor=\"middle\" x=\"519.5\" y=\"-316\" font-family=\"monospace\" font-size=\"10.00\">fc_2.weight</text>\r\n",
       "<text text-anchor=\"middle\" x=\"519.5\" y=\"-305\" font-family=\"monospace\" font-size=\"10.00\"> (1, 128)</text>\r\n",
       "</g>\r\n",
       "<!-- 1602593050112&#45;&gt;1602616058016 -->\r\n",
       "<g id=\"edge23\" class=\"edge\">\r\n",
       "<title>1602593050112&#45;&gt;1602616058016</title>\r\n",
       "<path fill=\"none\" stroke=\"black\" d=\"M515.06,-297.8C512.19,-288.6 508.42,-276.53 505.31,-266.58\"/>\r\n",
       "<polygon fill=\"black\" stroke=\"black\" points=\"508.59,-265.35 502.26,-256.84 501.91,-267.43 508.59,-265.35\"/>\r\n",
       "</g>\r\n",
       "</g>\r\n",
       "</svg>\r\n"
      ],
      "text/plain": [
       "<graphviz.dot.Digraph at 0x175235c6d90>"
      ]
     },
     "execution_count": 613,
     "metadata": {},
     "output_type": "execute_result"
    }
   ],
   "source": [
    "outputs = stock_lstm(data_train.float())\n",
    "\n",
    "make_dot(outputs.mean(),params=dict(stock_lstm.named_parameters()))"
   ]
  },
  {
   "cell_type": "code",
   "execution_count": null,
   "id": "2eee90f0-ea17-4b5d-9081-36ac7250e2bc",
   "metadata": {},
   "outputs": [],
   "source": []
  },
  {
   "cell_type": "code",
   "execution_count": null,
   "id": "fbe7b012-9c4b-4dbb-a872-e4c13350395f",
   "metadata": {},
   "outputs": [],
   "source": []
  },
  {
   "cell_type": "code",
   "execution_count": null,
   "id": "8e51d34d-5379-42e1-b1fd-bdefcdb9b089",
   "metadata": {},
   "outputs": [],
   "source": []
  },
  {
   "cell_type": "code",
   "execution_count": null,
   "id": "5e3eeea8-903d-46c0-8054-db80bd8e6522",
   "metadata": {},
   "outputs": [],
   "source": []
  },
  {
   "cell_type": "code",
   "execution_count": null,
   "id": "58bab346-c756-432d-8f81-f13d0c3e140f",
   "metadata": {},
   "outputs": [],
   "source": []
  },
  {
   "cell_type": "code",
   "execution_count": null,
   "id": "7676f2df-e9ea-4d1e-9a54-c1ead8c0987b",
   "metadata": {},
   "outputs": [],
   "source": []
  },
  {
   "cell_type": "code",
   "execution_count": null,
   "id": "f48fe259-1f85-44d3-836a-defc1c2860db",
   "metadata": {},
   "outputs": [],
   "source": []
  },
  {
   "cell_type": "code",
   "execution_count": null,
   "id": "68a53aa2-b609-4a11-b6f6-f6977eaf7414",
   "metadata": {},
   "outputs": [],
   "source": []
  },
  {
   "cell_type": "code",
   "execution_count": null,
   "id": "69b1c8e3-6d02-4ba9-9831-24b103428d13",
   "metadata": {},
   "outputs": [],
   "source": []
  },
  {
   "cell_type": "code",
   "execution_count": null,
   "id": "b54e7a39-03a1-48a4-acb9-c5d4da7e0eea",
   "metadata": {},
   "outputs": [],
   "source": []
  },
  {
   "cell_type": "code",
   "execution_count": null,
   "id": "85798bae-6102-4c01-9a06-efeb05d0ef8b",
   "metadata": {},
   "outputs": [],
   "source": []
  },
  {
   "cell_type": "code",
   "execution_count": null,
   "id": "ee573ef8-afdc-417f-ac0f-f5b101c42544",
   "metadata": {},
   "outputs": [],
   "source": []
  },
  {
   "cell_type": "code",
   "execution_count": null,
   "id": "b566679f-0a8f-496e-955e-72ab41238b9c",
   "metadata": {},
   "outputs": [],
   "source": []
  }
 ],
 "metadata": {
  "kernelspec": {
   "display_name": "Python 3",
   "language": "python",
   "name": "python3"
  },
  "language_info": {
   "codemirror_mode": {
    "name": "ipython",
    "version": 3
   },
   "file_extension": ".py",
   "mimetype": "text/x-python",
   "name": "python",
   "nbconvert_exporter": "python",
   "pygments_lexer": "ipython3",
   "version": "3.9.5"
  }
 },
 "nbformat": 4,
 "nbformat_minor": 5
}
